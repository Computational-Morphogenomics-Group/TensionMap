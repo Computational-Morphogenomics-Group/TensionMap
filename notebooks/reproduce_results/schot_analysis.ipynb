{
 "cells": [
  {
   "cell_type": "code",
   "execution_count": null,
   "metadata": {
    "collapsed": true
   },
   "outputs": [],
   "source": [
    "library(scHOT)\n",
    "library(dplyr)\n",
    "library(ggplot2)\n",
    "library(stringr)"
   ]
  },
  {
   "cell_type": "code",
   "execution_count": null,
   "outputs": [],
   "source": [
    "# Define helper function for barplot\n",
    "makebarplot <- function(data, title, numpoints){\n",
    "    data[['log10_pvalue']] <- -log10(data$pvalue)\n",
    "    data_plot_df <- dplyr::arrange(data, desc(log10_pvalue))[1:numpoints,]\n",
    "    data_plot_df$Description <- apply(str_split_fixed(data_plot_df$Description, '_', Inf), 1, paste, collapse=' ') %>% tolower()\n",
    "    data_plot_df$Description <- str_wrap(data_plot_df$Description, width = 30)\n",
    "    data_plot_df$Description <- factor(data_plot_df$Description, levels = rev(data_plot_df$Description))\n",
    "\n",
    "    plot <- ggplot(data_plot_df, aes(x=log10_pvalue, y=Description, fill=Count)) +\n",
    "    geom_bar(stat='identity') +\n",
    "    xlab(bquote(~-Log[10] ~ 'p value')) +\n",
    "    ylab(NULL) +\n",
    "    ggtitle(title) +\n",
    "    theme_bw() +\n",
    "    scale_fill_gradientn(colours = jdb_palette('solar_rojos')[4:length(jdb_palette('solar_rojos'))]) +\n",
    "    theme(plot.title = element_text(hjust = 0.5, size=17, face=\"bold\"), axis.text.y = element_text(size=14),\n",
    "    panel.border = element_blank(), panel.grid.major = element_blank(),\n",
    "    panel.grid.minor = element_blank(), axis.line = element_line(colour = \"black\"))\n",
    "    return(plot)\n",
    "}"
   ],
   "metadata": {
    "collapsed": false,
    "pycharm": {
     "name": "#%%\n"
    }
   }
  },
  {
   "cell_type": "code",
   "execution_count": null,
   "outputs": [],
   "source": [
    "dataset <- 'embryo2_brain'"
   ],
   "metadata": {
    "collapsed": false,
    "pycharm": {
     "name": "#%%\n"
    }
   }
  },
  {
   "cell_type": "code",
   "execution_count": null,
   "outputs": [],
   "source": [
    "# Import data\n",
    "\n",
    "gex_res <- read.table(paste('/Users/ruiyanghe/Desktop/Uni/PartIII/Project/Nat_Biotech_Analysis/',dataset,'/data/final_gex_res.csv', collapse=''), header=TRUE, sep=',', row.names = 1)\n",
    "combined_data <- read.table(paste('/Users/ruiyanghe/Desktop/Uni/PartIII/Project/Nat_Biotech_Analysis/',dataset,'/data/final_combined_data.csv'), header=TRUE, sep=',', row.names = 1)\n",
    "\n",
    "force_res <- data.frame(pressure=combined_data$pressure,pressure_rank=rank(combined_data$pressure),\n",
    "sm=combined_data$stresstensor_eigval1,sm_rank=rank(combined_data$stresstensor_eigval1))\n",
    "\n",
    "scHOT_p_obj <- scHOT_buildFromMatrix(\n",
    "    mat = as.matrix(gex_res),\n",
    "    cellData = list(pseudotime = force_res$pressure_rank),\n",
    "positionType = \"trajectory\",\n",
    "positionColData = \"pseudotime\")"
   ],
   "metadata": {
    "collapsed": false,
    "pycharm": {
     "name": "#%%\n"
    }
   }
  },
  {
   "cell_type": "markdown",
   "source": [
    "Analysis of weighted median"
   ],
   "metadata": {
    "collapsed": false,
    "pycharm": {
     "name": "#%% md\n"
    }
   }
  },
  {
   "cell_type": "code",
   "execution_count": null,
   "outputs": [],
   "source": [],
   "metadata": {
    "collapsed": false,
    "pycharm": {
     "name": "#%%\n"
    }
   }
  }
 ],
 "metadata": {
  "kernelspec": {
   "name": "ir",
   "language": "R",
   "display_name": "R"
  },
  "language_info": {
   "codemirror_mode": {
    "name": "ipython",
    "version": 2
   },
   "file_extension": ".py",
   "mimetype": "text/x-python",
   "name": "python",
   "nbconvert_exporter": "python",
   "pygments_lexer": "ipython2",
   "version": "2.7.6"
  }
 },
 "nbformat": 4,
 "nbformat_minor": 0
}