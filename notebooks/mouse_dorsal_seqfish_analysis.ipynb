{
 "cells": [
  {
   "cell_type": "markdown",
   "metadata": {
    "collapsed": true,
    "pycharm": {
     "name": "#%% md\n"
    }
   },
   "source": [
    "## Example integrated analysis of seqFISH data and force inference & morphometrics for mouse E8.5 embryo dorsal region"
   ]
  },
  {
   "cell_type": "markdown",
   "source": [
    "Import required modules"
   ],
   "metadata": {
    "collapsed": false,
    "pycharm": {
     "name": "#%% md\n"
    }
   }
  },
  {
   "cell_type": "code",
   "execution_count": 1,
   "outputs": [],
   "source": [
    "import matplotlib.colors\n",
    "import numpy as np\n",
    "import matplotlib.pyplot as plt\n",
    "import skimage\n",
    "import pandas as pd\n",
    "from sklearn.decomposition import PCA\n",
    "from sklearn.preprocessing import scale, StandardScaler\n",
    "import seaborn as sns\n",
    "import umap\n",
    "import scanpy as sc\n",
    "import os"
   ],
   "metadata": {
    "collapsed": false,
    "pycharm": {
     "name": "#%%\n"
    }
   }
  },
  {
   "cell_type": "markdown",
   "source": [
    "First, import data;`vmsi_res` contains the force inference and morhpometrics results, `gex` contains\n",
    "the normalised and log-transformed expression values derived from seqFISH, and `neighbours` is a cell-cell adjacency graph\n",
    "where non-zero values denote junctions between cells and the value denotes the tension at that junction."
   ],
   "metadata": {
    "collapsed": false,
    "pycharm": {
     "name": "#%% md\n"
    }
   }
  },
  {
   "cell_type": "markdown",
   "source": [
    "Note: cells in the `vmsi_res` do not correspond exactly to the force inference output from `mouse_dorsal_seqfish_inferece.ipynb`\n",
    "as some cells were filtered out to maintain consistency with seqFISH data."
   ],
   "metadata": {
    "collapsed": false,
    "pycharm": {
     "name": "#%% md\n"
    }
   }
  },
  {
   "cell_type": "code",
   "execution_count": 2,
   "outputs": [],
   "source": [
    "curr_wd = os.getcwd()\n",
    "\n",
    "gex = pd.read_csv(f'{curr_wd}/../example_data/mouse_dorsal_seqFISH/gex.csv', index_col=0)\n",
    "neighbours = pd.read_csv(f'{curr_wd}/../example_data/mouse_dorsal_seqFISH/neighbours.csv', index_col=0)\n",
    "vmsi_res = pd.read_csv(f'{curr_wd}/../example_data/mouse_dorsal_seqFISH/vmsi_res_merged.csv', index_col=0)"
   ],
   "metadata": {
    "collapsed": false,
    "pycharm": {
     "name": "#%%\n"
    }
   }
  },
  {
   "cell_type": "markdown",
   "source": [
    "#### Integrated clustering with MUSE"
   ],
   "metadata": {
    "collapsed": false,
    "pycharm": {
     "name": "#%% md\n"
    }
   }
  },
  {
   "cell_type": "markdown",
   "source": [
    "Now that we have both force inferece/morphometrics and gene expression, we would like to see if\n",
    "combining these modalities results in different celltype annotations compared to annotations from gene\n",
    "expression alone.\n",
    "\n",
    "We can do this using MUSE (*Bao el al., 2022*) to combine these modalities into a single joint latent representation\n",
    "from which clusters can be obtained."
   ],
   "metadata": {
    "collapsed": false,
    "pycharm": {
     "name": "#%% md\n"
    }
   }
  },
  {
   "cell_type": "markdown",
   "source": [
    "MUSE requires initial cluster labels for both modalities as input for the NN. We derive these from `phenograph`,\n",
    "which is less sensitive to hyperparameter values.\n",
    "\n",
    "To perform clustering, we first perform PCA on both modalities separately."
   ],
   "metadata": {
    "collapsed": false,
    "pycharm": {
     "name": "#%% md\n"
    }
   }
  },
  {
   "cell_type": "code",
   "execution_count": 3,
   "outputs": [],
   "source": [
    "gex_norm = StandardScaler().fit_transform(gex.T)\n",
    "pca = PCA()\n",
    "gex_pca = pca.fit_transform(gex_norm)\n",
    "\n",
    "vmsi_res_norm = StandardScaler().fit_transform(vmsi_res.drop(['centroid_x','centroid_y','celltype','celltype_conf'], axis=1))\n",
    "pca = PCA()\n",
    "vmsi_pca = pca.fit_transform(vmsi_res_norm)"
   ],
   "metadata": {
    "collapsed": false,
    "pycharm": {
     "name": "#%%\n"
    }
   }
  },
  {
   "cell_type": "markdown",
   "source": [
    "Then, we obtain cluster labels with `phenograph`."
   ],
   "metadata": {
    "collapsed": false,
    "pycharm": {
     "name": "#%% md\n"
    }
   }
  },
  {
   "cell_type": "code",
   "execution_count": 4,
   "outputs": [
    {
     "name": "stdout",
     "output_type": "stream",
     "text": [
      "Finding 30 nearest neighbors using minkowski metric and 'auto' algorithm\n",
      "Neighbors computed in 0.1392230987548828 seconds\n",
      "Jaccard graph constructed in 1.704286813735962 seconds\n",
      "Wrote graph to binary file in 0.22783493995666504 seconds\n",
      "Running Louvain modularity optimization\n",
      "After 1 runs, maximum modularity is Q = 0.670366\n",
      "After 2 runs, maximum modularity is Q = 0.67498\n",
      "Louvain completed 22 runs in 0.9897463321685791 seconds\n",
      "Sorting communities by size, please wait ...\n",
      "PhenoGraph completed in 4.054747104644775 seconds\n",
      "Finding 30 nearest neighbors using minkowski metric and 'auto' algorithm\n",
      "Neighbors computed in 0.22325396537780762 seconds\n",
      "Jaccard graph constructed in 1.7025389671325684 seconds\n",
      "Wrote graph to binary file in 0.2821788787841797 seconds\n",
      "Running Louvain modularity optimization\n",
      "After 1 runs, maximum modularity is Q = 0.77991\n",
      "Louvain completed 21 runs in 0.8288912773132324 seconds\n",
      "Sorting communities by size, please wait ...\n",
      "PhenoGraph completed in 4.078504800796509 seconds\n"
     ]
    }
   ],
   "source": [
    "import phenograph\n",
    "\n",
    "# assign initial cluster labels to morphometric data using phenograph\n",
    "vmsi_labels,_,_ = phenograph.cluster(vmsi_pca)\n",
    "# use gex clusters from Nat Biotech as initial cluster labels\n",
    "#gex_labels = gex_metadata['cluster'].values\n",
    "gex_labels,_,_ = phenograph.cluster(gex_pca)"
   ],
   "metadata": {
    "collapsed": false,
    "pycharm": {
     "name": "#%%\n"
    }
   }
  },
  {
   "cell_type": "markdown",
   "source": [
    "Finally, run MUSE:"
   ],
   "metadata": {
    "collapsed": false,
    "pycharm": {
     "name": "#%% md\n"
    }
   }
  },
  {
   "cell_type": "code",
   "execution_count": 5,
   "outputs": [
    {
     "name": "stdout",
     "output_type": "stream",
     "text": [
      "WARNING:tensorflow:From /Users/ruiyanghe/opt/anaconda3/envs/tensionmap-new/lib/python3.9/site-packages/tensorflow/python/compat/v2_compat.py:96: disable_resource_variables (from tensorflow.python.ops.variable_scope) is deprecated and will be removed in a future version.\n",
      "Instructions for updating:\n",
      "non-resource variables are not supported in the long term\n",
      "WARNING:tensorflow:From /Users/ruiyanghe/opt/anaconda3/envs/tensionmap-new/lib/python3.9/site-packages/muse_sc/triplet_loss.py:40: to_float (from tensorflow.python.ops.math_ops) is deprecated and will be removed in a future version.\n",
      "Instructions for updating:\n",
      "Use `tf.cast` instead.\n",
      "++++++++++ MUSE for multi-modality single-cell analysis ++++++++++\n",
      "MUSE initialization\n"
     ]
    },
    {
     "name": "stderr",
     "output_type": "stream",
     "text": [
      "2022-07-29 05:28:52.447304: I tensorflow/core/platform/cpu_feature_guard.cc:142] This TensorFlow binary is optimized with oneAPI Deep Neural Network Library (oneDNN) to use the following CPU instructions in performance-critical operations:  AVX2 FMA\n",
      "To enable them in other operations, rebuild TensorFlow with the appropriate compiler flags.\n"
     ]
    },
    {
     "name": "stdout",
     "output_type": "stream",
     "text": [
      "epoch: 0, \t total loss: 9293.27148,\t reconstruction loss: 8292.68848,\t sparse penalty: 200.11658\n",
      "epoch: 50, \t total loss: 6187.27588,\t reconstruction loss: 5270.65576,\t sparse penalty: 183.32401\n",
      "epoch: 100, \t total loss: 5945.94580,\t reconstruction loss: 5117.31689,\t sparse penalty: 165.72580\n",
      "epoch: 150, \t total loss: 5747.33789,\t reconstruction loss: 5003.75781,\t sparse penalty: 148.71600\n",
      "epoch: 0, \t total loss: 5676.18018,\t reconstruction loss: 4912.72656,\t sparse penalty: 132.65450,\t x triplet: 11.86179,\t y triplet: 8.17443\n",
      "epoch: 50, \t total loss: 5491.71680,\t reconstruction loss: 4832.50293,\t sparse penalty: 117.85619,\t x triplet: 8.63594,\t y triplet: 5.35066\n",
      "epoch: 100, \t total loss: 5359.01758,\t reconstruction loss: 4773.22900,\t sparse penalty: 103.80795,\t x triplet: 8.37445,\t y triplet: 4.97540\n",
      "epoch: 150, \t total loss: 5240.79541,\t reconstruction loss: 4722.05566,\t sparse penalty: 90.71474,\t x triplet: 8.24241,\t y triplet: 4.79084\n",
      "Finding 30 nearest neighbors using minkowski metric and 'auto' algorithm\n",
      "Neighbors computed in 0.11458182334899902 seconds\n",
      "Jaccard graph constructed in 2.8338780403137207 seconds\n",
      "Wrote graph to binary file in 0.2309589385986328 seconds\n",
      "Running Louvain modularity optimization\n",
      "After 1 runs, maximum modularity is Q = 0.699202\n",
      "After 2 runs, maximum modularity is Q = 0.700488\n",
      "Louvain completed 22 runs in 1.114366054534912 seconds\n",
      "Sorting communities by size, please wait ...\n",
      "PhenoGraph completed in 5.29227876663208 seconds\n",
      "Finding 30 nearest neighbors using minkowski metric and 'auto' algorithm\n",
      "Neighbors computed in 0.09042501449584961 seconds\n",
      "Jaccard graph constructed in 1.6654448509216309 seconds\n",
      "Wrote graph to binary file in 0.08523678779602051 seconds\n",
      "Running Louvain modularity optimization\n",
      "After 1 runs, maximum modularity is Q = 0.864994\n",
      "Louvain completed 21 runs in 0.8348050117492676 seconds\n",
      "Sorting communities by size, please wait ...\n",
      "PhenoGraph completed in 3.624737024307251 seconds\n",
      "Finish initialization of MUSE\n",
      "epoch: 0, \t total loss: 5139.50049,\t reconstruction loss: 4676.29199,\t sparse penalty: 78.68035,\t x triplet loss: 8.22747,\t y triplet loss: 5.73389\n",
      "Finding 30 nearest neighbors using minkowski metric and 'auto' algorithm\n",
      "Neighbors computed in 0.10808014869689941 seconds\n",
      "Jaccard graph constructed in 1.6881682872772217 seconds\n",
      "Wrote graph to binary file in 0.21201801300048828 seconds\n",
      "Running Louvain modularity optimization\n",
      "After 1 runs, maximum modularity is Q = 0.697182\n",
      "After 3 runs, maximum modularity is Q = 0.698779\n",
      "After 5 runs, maximum modularity is Q = 0.700252\n",
      "After 15 runs, maximum modularity is Q = 0.701414\n",
      "Louvain completed 35 runs in 1.7325711250305176 seconds\n",
      "Sorting communities by size, please wait ...\n",
      "PhenoGraph completed in 4.690571069717407 seconds\n",
      "Finding 30 nearest neighbors using minkowski metric and 'auto' algorithm\n",
      "Neighbors computed in 0.09230732917785645 seconds\n",
      "Jaccard graph constructed in 1.6492412090301514 seconds\n",
      "Wrote graph to binary file in 0.07721114158630371 seconds\n",
      "Running Louvain modularity optimization\n",
      "After 1 runs, maximum modularity is Q = 0.866771\n",
      "After 2 runs, maximum modularity is Q = 0.868105\n",
      "Louvain completed 22 runs in 0.9688940048217773 seconds\n",
      "Sorting communities by size, please wait ...\n",
      "PhenoGraph completed in 3.734896183013916 seconds\n",
      "epoch: 50, \t total loss: 5037.94385,\t reconstruction loss: 4634.04102,\t sparse penalty: 67.69324,\t x triplet loss: 7.91008,\t y triplet loss: 5.17724\n",
      "epoch: 100, \t total loss: 4946.03467,\t reconstruction loss: 4592.53955,\t sparse penalty: 57.73367,\t x triplet loss: 7.99635,\t y triplet loss: 4.96894\n",
      "epoch: 150, \t total loss: 4863.45703,\t reconstruction loss: 4554.42236,\t sparse penalty: 48.83924,\t x triplet loss: 8.08839,\t y triplet loss: 4.87927\n",
      "epoch: 200, \t total loss: 4787.19678,\t reconstruction loss: 4517.23926,\t sparse penalty: 40.97660,\t x triplet loss: 8.19416,\t y triplet loss: 4.82077\n",
      "Finding 30 nearest neighbors using minkowski metric and 'auto' algorithm\n",
      "Neighbors computed in 0.10304999351501465 seconds\n",
      "Jaccard graph constructed in 2.308349132537842 seconds\n",
      "Wrote graph to binary file in 0.22403883934020996 seconds\n",
      "Running Louvain modularity optimization\n",
      "After 1 runs, maximum modularity is Q = 0.722551\n",
      "Louvain completed 21 runs in 0.8653688430786133 seconds\n",
      "Sorting communities by size, please wait ...\n",
      "PhenoGraph completed in 4.446805000305176 seconds\n",
      "Finding 30 nearest neighbors using minkowski metric and 'auto' algorithm\n",
      "Neighbors computed in 0.09232592582702637 seconds\n",
      "Jaccard graph constructed in 1.6604888439178467 seconds\n",
      "Wrote graph to binary file in 0.07690620422363281 seconds\n",
      "Running Louvain modularity optimization\n",
      "After 1 runs, maximum modularity is Q = 0.889007\n",
      "Louvain completed 21 runs in 0.8061597347259521 seconds\n",
      "Sorting communities by size, please wait ...\n",
      "PhenoGraph completed in 3.5760247707366943 seconds\n",
      "epoch: 250, \t total loss: 4719.50342,\t reconstruction loss: 4482.72900,\t sparse penalty: 34.13314,\t x triplet loss: 8.30640,\t y triplet loss: 4.91537\n",
      "epoch: 300, \t total loss: 4659.48535,\t reconstruction loss: 4451.93652,\t sparse penalty: 28.22226,\t x triplet loss: 8.42748,\t y triplet loss: 4.86005\n",
      "epoch: 350, \t total loss: 4603.88818,\t reconstruction loss: 4421.03076,\t sparse penalty: 23.17080,\t x triplet loss: 8.57127,\t y triplet loss: 4.82944\n",
      "epoch: 400, \t total loss: 4556.92578,\t reconstruction loss: 4394.58154,\t sparse penalty: 18.93580,\t x triplet loss: 8.75436,\t y triplet loss: 4.77859\n",
      "Finding 30 nearest neighbors using minkowski metric and 'auto' algorithm\n",
      "Neighbors computed in 0.10077428817749023 seconds\n",
      "Jaccard graph constructed in 2.2512717247009277 seconds\n",
      "Wrote graph to binary file in 0.21438097953796387 seconds\n",
      "Running Louvain modularity optimization\n",
      "After 1 runs, maximum modularity is Q = 0.733057\n",
      "After 5 runs, maximum modularity is Q = 0.736167\n",
      "Louvain completed 25 runs in 1.0349860191345215 seconds\n",
      "Sorting communities by size, please wait ...\n",
      "PhenoGraph completed in 4.5760979652404785 seconds\n",
      "Finding 30 nearest neighbors using minkowski metric and 'auto' algorithm\n",
      "Neighbors computed in 0.08798980712890625 seconds\n",
      "Jaccard graph constructed in 1.7747492790222168 seconds\n",
      "Wrote graph to binary file in 0.16558504104614258 seconds\n",
      "Running Louvain modularity optimization\n",
      "After 1 runs, maximum modularity is Q = 0.888972\n",
      "Louvain completed 21 runs in 0.9189651012420654 seconds\n",
      "Sorting communities by size, please wait ...\n",
      "PhenoGraph completed in 3.8689699172973633 seconds\n",
      "epoch: 450, \t total loss: 4513.08838,\t reconstruction loss: 4367.75537,\t sparse penalty: 15.41037,\t x triplet loss: 8.95205,\t y triplet loss: 4.70421\n",
      "++++++++++ MUSE completed ++++++++++\n"
     ]
    }
   ],
   "source": [
    "import muse_sc as muse\n",
    "\n",
    "muse_features, reconstruct_x, reconstruct_y, latent_x, latent_y = muse.muse_fit_predict(vmsi_res_norm, gex_norm,\n",
    "                                                                                        vmsi_labels, gex_labels,\n",
    "                                                                                        latent_dim=100, n_epochs=500,\n",
    "                                                                                        lambda_regul=5, lambda_super=5)"
   ],
   "metadata": {
    "collapsed": false,
    "pycharm": {
     "name": "#%%\n"
    }
   }
  },
  {
   "cell_type": "markdown",
   "source": [
    "We can re-cluster with phenograph to obtain new clusters from the joint features computed by MUSE:"
   ],
   "metadata": {
    "collapsed": false,
    "pycharm": {
     "name": "#%% md\n"
    }
   }
  },
  {
   "cell_type": "code",
   "execution_count": 6,
   "outputs": [
    {
     "name": "stdout",
     "output_type": "stream",
     "text": [
      "Finding 30 nearest neighbors using minkowski metric and 'auto' algorithm\n",
      "Neighbors computed in 0.22519707679748535 seconds\n",
      "Jaccard graph constructed in 1.641679048538208 seconds\n",
      "Wrote graph to binary file in 0.07300901412963867 seconds\n",
      "Running Louvain modularity optimization\n",
      "After 1 runs, maximum modularity is Q = 0.89963\n",
      "Louvain completed 21 runs in 0.8106660842895508 seconds\n",
      "Sorting communities by size, please wait ...\n",
      "PhenoGraph completed in 3.7189600467681885 seconds\n"
     ]
    }
   ],
   "source": [
    "# Cluster on MUSE features\n",
    "muse_labels,_,_ = phenograph.cluster(muse_features)"
   ],
   "metadata": {
    "collapsed": false,
    "pycharm": {
     "name": "#%%\n"
    }
   }
  },
  {
   "cell_type": "markdown",
   "source": [
    "Compare these MUSE-derived clusters with the original gene expression-derived celltypes:"
   ],
   "metadata": {
    "collapsed": false,
    "pycharm": {
     "name": "#%% md\n"
    }
   }
  },
  {
   "cell_type": "code",
   "execution_count": 9,
   "outputs": [
    {
     "data": {
      "text/plain": "<Figure size 432x288 with 2 Axes>",
      "image/png": "[encoded data removed]"
     },
     "metadata": {
      "needs_background": "light"
     },
     "output_type": "display_data"
    }
   ],
   "source": [
    "vmsi_res['muse_labels'] = muse_labels\n",
    "\n",
    "cm = pd.DataFrame(np.zeros((len(np.unique(vmsi_res['muse_labels'])), len(np.unique(vmsi_res['celltype'].values)))))\n",
    "cm.index = np.unique(vmsi_res['muse_labels'])\n",
    "cm.columns = np.unique(vmsi_res['celltype'].values)\n",
    "\n",
    "for i in range(len(vmsi_res['muse_labels'])):\n",
    "    cm.loc[vmsi_res['muse_labels'].values[i], vmsi_res['celltype'].values[i]] += 1\n",
    "cm = cm.divide(cm.sum(axis=1), axis=0)\n",
    "\n",
    "g = sns.heatmap(cm, cbar_kws={'label': 'Overlap fraction'})\n",
    "g.set(xlabel='GeX celltype', ylabel='MUSE label')\n",
    "g.set_xticklabels(g.get_xticklabels(), rotation=45, horizontalalignment='right')\n",
    "plt.show()"
   ],
   "metadata": {
    "collapsed": false,
    "pycharm": {
     "name": "#%%\n"
    }
   }
  }
 ],
 "metadata": {
  "kernelspec": {
   "name": "tensionmap-new",
   "language": "python",
   "display_name": "TensionMap-new"
  },
  "language_info": {
   "codemirror_mode": {
    "name": "ipython",
    "version": 2
   },
   "file_extension": ".py",
   "mimetype": "text/x-python",
   "name": "python",
   "nbconvert_exporter": "python",
   "pygments_lexer": "ipython2",
   "version": "2.7.6"
  }
 },
 "nbformat": 4,
 "nbformat_minor": 0
}