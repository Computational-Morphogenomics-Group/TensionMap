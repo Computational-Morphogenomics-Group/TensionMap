{
 "cells": [
  {
   "cell_type": "markdown",
   "metadata": {
    "collapsed": true,
    "pycharm": {
     "name": "#%% md\n"
    }
   },
   "source": [
    "## Example integrated analysis of seqFISH data and force inference & morphometrics for mouse E8.5 embryo dorsal region"
   ]
  },
  {
   "cell_type": "markdown",
   "metadata": {
    "pycharm": {
     "name": "#%% md\n"
    }
   },
   "source": [
    "Import required modules"
   ]
  },
  {
   "cell_type": "code",
   "execution_count": 1,
   "metadata": {
    "pycharm": {
     "name": "#%%\n"
    }
   },
   "outputs": [],
   "source": [
    "import sys\n",
    "sys.path.append('../')\n",
    "\n",
    "import matplotlib.colors\n",
    "import numpy as np\n",
    "import matplotlib.pyplot as plt\n",
    "import skimage\n",
    "import pandas as pd\n",
    "from sklearn.decomposition import PCA\n",
    "from sklearn.preprocessing import scale, StandardScaler\n",
    "import seaborn as sns\n",
    "import umap\n",
    "import scanpy as sc\n",
    "import os"
   ]
  },
  {
   "cell_type": "markdown",
   "metadata": {
    "pycharm": {
     "name": "#%% md\n"
    }
   },
   "source": [
    "First, import data;`vmsi_res` contains the force inference and morhpometrics results, `gex` contains\n",
    "the normalised and log-transformed expression values derived from seqFISH, and `neighbours` is a cell-cell adjacency graph\n",
    "where non-zero values denote junctions between cells and the value denotes the tension at that junction."
   ]
  },
  {
   "cell_type": "markdown",
   "metadata": {
    "pycharm": {
     "name": "#%% md\n"
    }
   },
   "source": [
    "Note: cells in the `vmsi_res` do not correspond exactly to the force inference output from `mouse_dorsal_seqfish_inferece.ipynb`\n",
    "as some cells were filtered out to maintain consistency with seqFISH data."
   ]
  },
  {
   "cell_type": "code",
   "execution_count": 2,
   "metadata": {
    "pycharm": {
     "name": "#%%\n"
    }
   },
   "outputs": [],
   "source": [
    "curr_wd = os.getcwd()\n",
    "\n",
    "gex = pd.read_csv(f'{curr_wd}/../example_data/mouse_dorsal_seqFISH/gex.csv', index_col=0)\n",
    "neighbours = pd.read_csv(f'{curr_wd}/../example_data/mouse_dorsal_seqFISH/neighbours.csv', index_col=0)\n",
    "vmsi_res = pd.read_csv(f'{curr_wd}/../example_data/mouse_dorsal_seqFISH/vmsi_res_merged.csv', index_col=0)"
   ]
  },
  {
   "cell_type": "markdown",
   "metadata": {
    "pycharm": {
     "name": "#%% md\n"
    }
   },
   "source": [
    "#### Integrated clustering with MUSE"
   ]
  },
  {
   "cell_type": "markdown",
   "metadata": {
    "pycharm": {
     "name": "#%% md\n"
    }
   },
   "source": [
    "Now that we have both force inferece/morphometrics and gene expression, we would like to see if\n",
    "combining these modalities results in different celltype annotations compared to annotations from gene\n",
    "expression alone.\n",
    "\n",
    "We can do this using MUSE (*Bao el al., 2022*) to combine these modalities into a single joint latent representation\n",
    "from which clusters can be obtained."
   ]
  },
  {
   "cell_type": "markdown",
   "metadata": {
    "pycharm": {
     "name": "#%% md\n"
    }
   },
   "source": [
    "MUSE requires initial cluster labels for both modalities as input for the NN. We derive these from `phenograph`,\n",
    "which is less sensitive to hyperparameter values.\n",
    "\n",
    "To perform clustering, we first perform PCA on both modalities separately."
   ]
  },
  {
   "cell_type": "code",
   "execution_count": 3,
   "metadata": {
    "pycharm": {
     "name": "#%%\n"
    }
   },
   "outputs": [],
   "source": [
    "gex_norm = StandardScaler().fit_transform(gex.T)\n",
    "pca = PCA()\n",
    "gex_pca = pca.fit_transform(gex_norm)\n",
    "\n",
    "vmsi_res_norm = StandardScaler().fit_transform(vmsi_res.drop(['centroid_x','centroid_y','celltype','celltype_conf'], axis=1))\n",
    "pca = PCA()\n",
    "vmsi_pca = pca.fit_transform(vmsi_res_norm)"
   ]
  },
  {
   "cell_type": "markdown",
   "metadata": {
    "pycharm": {
     "name": "#%% md\n"
    }
   },
   "source": [
    "Then, we obtain cluster labels with `phenograph`."
   ]
  },
  {
   "cell_type": "code",
   "execution_count": 4,
   "metadata": {
    "pycharm": {
     "name": "#%%\n"
    }
   },
   "outputs": [
    {
     "name": "stdout",
     "output_type": "stream",
     "text": [
      "Finding 30 nearest neighbors using minkowski metric and 'auto' algorithm\n",
      "Neighbors computed in 0.19954323768615723 seconds\n",
      "Jaccard graph constructed in 2.349684238433838 seconds\n",
      "Wrote graph to binary file in 0.09792399406433105 seconds\n",
      "Running Louvain modularity optimization\n",
      "After 1 runs, maximum modularity is Q = 0.672642\n",
      "After 6 runs, maximum modularity is Q = 0.67372\n",
      "After 22 runs, maximum modularity is Q = 0.674926\n",
      "Louvain completed 42 runs in 1.9907920360565186 seconds\n",
      "Sorting communities by size, please wait ...\n",
      "PhenoGraph completed in 5.68855094909668 seconds\n",
      "Finding 30 nearest neighbors using minkowski metric and 'auto' algorithm\n",
      "Neighbors computed in 0.22296905517578125 seconds\n",
      "Jaccard graph constructed in 1.7323558330535889 seconds\n",
      "Wrote graph to binary file in 0.29431581497192383 seconds\n",
      "Running Louvain modularity optimization\n",
      "After 1 runs, maximum modularity is Q = 0.77979\n",
      "Louvain completed 21 runs in 0.8665270805358887 seconds\n",
      "Sorting communities by size, please wait ...\n",
      "PhenoGraph completed in 4.160217046737671 seconds\n"
     ]
    }
   ],
   "source": [
    "import phenograph\n",
    "\n",
    "# assign initial cluster labels to morphometric data using phenograph\n",
    "vmsi_labels,_,_ = phenograph.cluster(vmsi_pca)\n",
    "# use gex clusters from Nat Biotech as initial cluster labels\n",
    "#gex_labels = gex_metadata['cluster'].values\n",
    "gex_labels,_,_ = phenograph.cluster(gex_pca)"
   ]
  },
  {
   "cell_type": "markdown",
   "metadata": {
    "pycharm": {
     "name": "#%% md\n"
    }
   },
   "source": [
    "Finally, run MUSE:"
   ]
  },
  {
   "cell_type": "code",
   "execution_count": null,
   "metadata": {
    "pycharm": {
     "name": "#%%\n"
    }
   },
   "outputs": [
    {
     "name": "stdout",
     "output_type": "stream",
     "text": [
      "WARNING:tensorflow:From /Users/ruiyanghe/opt/anaconda3/envs/tensionmap-new/lib/python3.9/site-packages/tensorflow/python/compat/v2_compat.py:96: disable_resource_variables (from tensorflow.python.ops.variable_scope) is deprecated and will be removed in a future version.\n",
      "Instructions for updating:\n",
      "non-resource variables are not supported in the long term\n",
      "WARNING:tensorflow:From /Users/ruiyanghe/opt/anaconda3/envs/tensionmap-new/lib/python3.9/site-packages/muse_sc/triplet_loss.py:40: to_float (from tensorflow.python.ops.math_ops) is deprecated and will be removed in a future version.\n",
      "Instructions for updating:\n",
      "Use `tf.cast` instead.\n",
      "++++++++++ MUSE for multi-modality single-cell analysis ++++++++++\n",
      "MUSE initialization\n"
     ]
    },
    {
     "name": "stderr",
     "output_type": "stream",
     "text": [
      "2022-07-30 19:33:31.923328: I tensorflow/core/platform/cpu_feature_guard.cc:142] This TensorFlow binary is optimized with oneAPI Deep Neural Network Library (oneDNN) to use the following CPU instructions in performance-critical operations:  AVX2 FMA\n",
      "To enable them in other operations, rebuild TensorFlow with the appropriate compiler flags.\n"
     ]
    },
    {
     "name": "stdout",
     "output_type": "stream",
     "text": [
      "epoch: 0, \t total loss: 9353.91211,\t reconstruction loss: 8357.23340,\t sparse penalty: 199.33569\n",
      "epoch: 50, \t total loss: 6246.11719,\t reconstruction loss: 5334.14258,\t sparse penalty: 182.39494\n",
      "epoch: 100, \t total loss: 5967.86133,\t reconstruction loss: 5144.58252,\t sparse penalty: 164.65573\n",
      "epoch: 150, \t total loss: 5757.92383,\t reconstruction loss: 5020.92822,\t sparse penalty: 147.39917\n",
      "epoch: 0, \t total loss: 5721.95166,\t reconstruction loss: 4954.50049,\t sparse penalty: 131.06985,\t x triplet: 13.04897,\t y triplet: 9.37152\n",
      "epoch: 50, \t total loss: 5518.62402,\t reconstruction loss: 4864.42090,\t sparse penalty: 115.98343,\t x triplet: 9.08492,\t y triplet: 5.77231\n",
      "epoch: 100, \t total loss: 5382.58838,\t reconstruction loss: 4802.82959,\t sparse penalty: 101.65481,\t x triplet: 8.84021,\t y triplet: 5.45672\n",
      "epoch: 150, \t total loss: 5261.72559,\t reconstruction loss: 4750.02832,\t sparse penalty: 88.30347,\t x triplet: 8.73445,\t y triplet: 5.30148\n",
      "Finding 30 nearest neighbors using minkowski metric and 'auto' algorithm\n",
      "Neighbors computed in 0.1687641143798828 seconds\n",
      "Jaccard graph constructed in 3.138774871826172 seconds\n",
      "Wrote graph to binary file in 0.13225483894348145 seconds\n",
      "Running Louvain modularity optimization\n",
      "After 1 runs, maximum modularity is Q = 0.711293\n",
      "After 3 runs, maximum modularity is Q = 0.713505\n",
      "After 4 runs, maximum modularity is Q = 0.71473\n",
      "Louvain completed 24 runs in 1.5758872032165527 seconds\n",
      "Sorting communities by size, please wait ...\n",
      "PhenoGraph completed in 6.47061014175415 seconds\n",
      "Finding 30 nearest neighbors using minkowski metric and 'auto' algorithm\n",
      "Neighbors computed in 0.12749004364013672 seconds\n",
      "Jaccard graph constructed in 2.943025827407837 seconds\n",
      "Wrote graph to binary file in 0.7322909832000732 seconds\n",
      "Running Louvain modularity optimization\n",
      "After 1 runs, maximum modularity is Q = 0.865341\n",
      "Louvain completed 21 runs in 0.9527020454406738 seconds\n",
      "Sorting communities by size, please wait ...\n",
      "PhenoGraph completed in 5.962657928466797 seconds\n",
      "Finish initialization of MUSE\n",
      "epoch: 0, \t total loss: 5151.61035,\t reconstruction loss: 4696.08398,\t sparse penalty: 76.07130,\t x triplet loss: 8.74948,\t y triplet loss: 6.28452\n",
      "Finding 30 nearest neighbors using minkowski metric and 'auto' algorithm\n",
      "Neighbors computed in 0.12176823616027832 seconds\n",
      "Jaccard graph constructed in 2.1691970825195312 seconds\n",
      "Wrote graph to binary file in 0.09331011772155762 seconds\n",
      "Running Louvain modularity optimization\n",
      "After 1 runs, maximum modularity is Q = 0.713789\n",
      "After 9 runs, maximum modularity is Q = 0.715457\n",
      "After 25 runs, maximum modularity is Q = 0.7165\n",
      "Louvain completed 45 runs in 2.090358018875122 seconds\n",
      "Sorting communities by size, please wait ...\n",
      "PhenoGraph completed in 5.675842046737671 seconds\n",
      "Finding 30 nearest neighbors using minkowski metric and 'auto' algorithm\n",
      "Neighbors computed in 0.10753488540649414 seconds\n",
      "Jaccard graph constructed in 2.9106388092041016 seconds\n",
      "Wrote graph to binary file in 0.290693998336792 seconds\n",
      "Running Louvain modularity optimization\n",
      "After 1 runs, maximum modularity is Q = 0.866258\n",
      "After 2 runs, maximum modularity is Q = 0.867486\n",
      "Louvain completed 22 runs in 1.0924270153045654 seconds\n",
      "Sorting communities by size, please wait ...\n",
      "PhenoGraph completed in 5.645003080368042 seconds\n",
      "epoch: 50, \t total loss: 5040.62256,\t reconstruction loss: 4645.29248,\t sparse penalty: 65.01343,\t x triplet loss: 8.47685,\t y triplet loss: 5.57581\n",
      "epoch: 100, \t total loss: 4942.99805,\t reconstruction loss: 4597.58252,\t sparse penalty: 55.10611,\t x triplet loss: 8.56453,\t y triplet loss: 5.41241\n",
      "epoch: 150, \t total loss: 4855.54590,\t reconstruction loss: 4553.89453,\t sparse penalty: 46.35522,\t x triplet loss: 8.68422,\t y triplet loss: 5.29085\n",
      "epoch: 200, \t total loss: 4778.86572,\t reconstruction loss: 4515.10449,\t sparse penalty: 38.72874,\t x triplet loss: 8.82300,\t y triplet loss: 5.20048\n",
      "Finding 30 nearest neighbors using minkowski metric and 'auto' algorithm\n",
      "Neighbors computed in 0.1238698959350586 seconds\n",
      "Jaccard graph constructed in 2.5777170658111572 seconds\n",
      "Wrote graph to binary file in 0.10416316986083984 seconds\n",
      "Running Louvain modularity optimization\n",
      "After 1 runs, maximum modularity is Q = 0.72619\n",
      "Louvain completed 21 runs in 1.0079302787780762 seconds\n",
      "Sorting communities by size, please wait ...\n",
      "PhenoGraph completed in 5.473581075668335 seconds\n",
      "Finding 30 nearest neighbors using minkowski metric and 'auto' algorithm\n",
      "Neighbors computed in 0.12459301948547363 seconds\n",
      "Jaccard graph constructed in 3.2905919551849365 seconds\n",
      "Wrote graph to binary file in 0.4050869941711426 seconds\n",
      "Running Louvain modularity optimization\n",
      "After 1 runs, maximum modularity is Q = 0.879592\n",
      "Louvain completed 21 runs in 1.3281400203704834 seconds\n",
      "Sorting communities by size, please wait ...\n",
      "PhenoGraph completed in 7.419103145599365 seconds\n",
      "epoch: 250, \t total loss: 4711.76807,\t reconstruction loss: 4479.93799,\t sparse penalty: 32.15463,\t x triplet loss: 8.97866,\t y triplet loss: 5.23283\n",
      "epoch: 300, \t total loss: 4650.75586,\t reconstruction loss: 4446.62256,\t sparse penalty: 26.55247,\t x triplet loss: 9.13842,\t y triplet loss: 5.13588\n",
      "epoch: 350, \t total loss: 4596.01562,\t reconstruction loss: 4414.86377,\t sparse penalty: 21.85971,\t x triplet loss: 9.30484,\t y triplet loss: 5.06579\n",
      "epoch: 400, \t total loss: 4549.51172,\t reconstruction loss: 4386.87988,\t sparse penalty: 17.96394,\t x triplet loss: 9.51468,\t y triplet loss: 5.04775\n",
      "Finding 30 nearest neighbors using minkowski metric and 'auto' algorithm\n",
      "Neighbors computed in 0.14803099632263184 seconds\n",
      "Jaccard graph constructed in 2.661463975906372 seconds\n",
      "Wrote graph to binary file in 0.1128389835357666 seconds\n",
      "Running Louvain modularity optimization\n",
      "After 1 runs, maximum modularity is Q = 0.727881\n",
      "After 2 runs, maximum modularity is Q = 0.731963\n",
      "After 7 runs, maximum modularity is Q = 0.733687\n",
      "After 12 runs, maximum modularity is Q = 0.735237\n",
      "Louvain completed 32 runs in 1.7003848552703857 seconds\n",
      "Sorting communities by size, please wait ...\n",
      "PhenoGraph completed in 5.8412697315216064 seconds\n",
      "Finding 30 nearest neighbors using minkowski metric and 'auto' algorithm\n",
      "Neighbors computed in 0.11784601211547852 seconds\n",
      "Jaccard graph constructed in 2.681694984436035 seconds\n",
      "Wrote graph to binary file in 0.7383649349212646 seconds\n",
      "Running Louvain modularity optimization\n",
      "After 1 runs, maximum modularity is Q = 0.881206\n",
      "Louvain completed 21 runs in 1.0345070362091064 seconds\n",
      "Sorting communities by size, please wait ...\n",
      "PhenoGraph completed in 5.9061644077301025 seconds\n"
     ]
    }
   ],
   "source": [
    "import muse_sc as muse\n",
    "\n",
    "muse_features, reconstruct_x, reconstruct_y, latent_x, latent_y = muse.muse_fit_predict(vmsi_res_norm, gex_norm,\n",
    "                                                                                        vmsi_labels, gex_labels,\n",
    "                                                                                        latent_dim=100, n_epochs=500,\n",
    "                                                                                        lambda_regul=5, lambda_super=5)"
   ]
  },
  {
   "cell_type": "markdown",
   "metadata": {
    "pycharm": {
     "name": "#%% md\n"
    }
   },
   "source": [
    "We can re-cluster with phenograph to obtain new clusters from the joint features computed by MUSE:"
   ]
  },
  {
   "cell_type": "code",
   "execution_count": null,
   "metadata": {
    "pycharm": {
     "name": "#%%\n"
    }
   },
   "outputs": [],
   "source": [
    "# Cluster on MUSE features\n",
    "muse_labels,_,_ = phenograph.cluster(muse_features)"
   ]
  },
  {
   "cell_type": "markdown",
   "metadata": {
    "pycharm": {
     "name": "#%% md\n"
    }
   },
   "source": [
    "Compare these MUSE-derived clusters with the original gene expression-derived celltypes:"
   ]
  },
  {
   "cell_type": "code",
   "execution_count": null,
   "metadata": {
    "pycharm": {
     "name": "#%%\n"
    }
   },
   "outputs": [],
   "source": [
    "vmsi_res['muse_labels'] = muse_labels\n",
    "\n",
    "cm = pd.DataFrame(np.zeros((len(np.unique(vmsi_res['muse_labels'])), len(np.unique(vmsi_res['celltype'].values)))))\n",
    "cm.index = np.unique(vmsi_res['muse_labels'])\n",
    "cm.columns = np.unique(vmsi_res['celltype'].values)\n",
    "\n",
    "for i in range(len(vmsi_res['muse_labels'])):\n",
    "    cm.loc[vmsi_res['muse_labels'].values[i], vmsi_res['celltype'].values[i]] += 1\n",
    "cm = cm.divide(cm.sum(axis=1), axis=0)\n",
    "\n",
    "g = sns.heatmap(cm, cbar_kws={'label': 'Overlap fraction'})\n",
    "g.set(xlabel='GeX celltype', ylabel='MUSE label')\n",
    "g.set_xticklabels(g.get_xticklabels(), rotation=45, horizontalalignment='right')\n",
    "plt.show()"
   ]
  }
 ],
 "metadata": {
  "kernelspec": {
   "display_name": "TensionMap-new",
   "language": "python",
   "name": "tensionmap-new"
  },
  "language_info": {
   "codemirror_mode": {
    "name": "ipython",
    "version": 3
   },
   "file_extension": ".py",
   "mimetype": "text/x-python",
   "name": "python",
   "nbconvert_exporter": "python",
   "pygments_lexer": "ipython3",
   "version": "3.9.12"
  }
 },
 "nbformat": 4,
 "nbformat_minor": 1
}
