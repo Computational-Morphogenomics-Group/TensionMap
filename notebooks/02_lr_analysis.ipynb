{
 "cells": [
  {
   "cell_type": "markdown",
   "metadata": {
    "collapsed": true,
    "pycharm": {
     "name": "#%% md\n"
    }
   },
   "source": [
    "## Analysis of ligand-receptor interactions across boundaries\n",
    "\n",
    "- Calculate interaction likelihood in both directions for a given ligand-receptor (LR) pair\n",
    "- Plot interaction potentials for each cell pair between two cell types for each LR pair\n",
    "- Rank interaction likelihoods for all LR pairs defined from the CellChat database"
   ]
  },
  {
   "cell_type": "markdown",
   "source": [
    "Select dataset - can be one of embryo1_brain, embryo2_brain, embryo2_fmh, embryo2_dorsal"
   ],
   "metadata": {
    "collapsed": false
   }
  },
  {
   "cell_type": "code",
   "execution_count": 136,
   "outputs": [],
   "source": [
    "dataset = 'embryo2_fmh'"
   ],
   "metadata": {
    "collapsed": false,
    "pycharm": {
     "name": "#%%\n"
    }
   }
  },
  {
   "cell_type": "markdown",
   "source": [
    "Module imports"
   ],
   "metadata": {
    "collapsed": false
   }
  },
  {
   "cell_type": "code",
   "execution_count": 137,
   "outputs": [],
   "source": [
    "import matplotlib.colors as mcolors\n",
    "import matplotlib.pyplot as plt\n",
    "import numpy as np\n",
    "import pandas as pd\n",
    "import seaborn as sns\n",
    "import scanpy as sc\n",
    "import scipy.stats\n",
    "import omnipath\n",
    "from helper_functions import *"
   ],
   "metadata": {
    "collapsed": false,
    "pycharm": {
     "name": "#%%\n"
    }
   }
  },
  {
   "cell_type": "code",
   "execution_count": 138,
   "outputs": [],
   "source": [
    "# test, please remove\n",
    "import importlib\n",
    "import helper_functions\n",
    "importlib.reload(helper_functions)\n",
    "from helper_functions import *"
   ],
   "metadata": {
    "collapsed": false,
    "pycharm": {
     "name": "#%%\n"
    }
   }
  },
  {
   "cell_type": "markdown",
   "source": [
    "Data import"
   ],
   "metadata": {
    "collapsed": false
   }
  },
  {
   "cell_type": "code",
   "execution_count": 139,
   "outputs": [],
   "source": [
    "# Gene expression matrix, cell adjacency matrix, force imputation results\n",
    "gex_res = pd.read_csv(f'../../reproduce_data/{dataset}/gex_res.csv', index_col=0)\n",
    "adj_mat = pd.read_csv(f'../../reproduce_data/{dataset}/adj_mat.csv', index_col=0)\n",
    "tensionmap_data = pd.read_csv(f'../../reproduce_data/{dataset}/tensionmap_res.csv', index_col=0)\n",
    "\n",
    "# Define celltypes on either side of boundary\n",
    "boundary_celltypes = np.unique(tensionmap_data['boundary_annotation'].values)\n",
    "boundary_celltypes = boundary_celltypes[boundary_celltypes != 'Other']\n",
    "\n",
    "# distance_to_boundary object is calculated in the previous step\n",
    "distance_to_boundary = pd.read_csv('./temp_data/distance_to_boundary.csv', index_col=0)\n",
    "boundary_tensions = pd.read_csv('./temp_data/boundary_tensions.csv', index_col=0)"
   ],
   "metadata": {
    "collapsed": false,
    "pycharm": {
     "name": "#%%\n"
    }
   }
  },
  {
   "cell_type": "markdown",
   "source": [
    "Download set of LR interactions - here, we use CellChatDB, but any correctly formatted object containing ligand-receptor pairs can be used."
   ],
   "metadata": {
    "collapsed": false,
    "pycharm": {
     "name": "#%% md\n"
    }
   }
  },
  {
   "cell_type": "code",
   "execution_count": 140,
   "outputs": [],
   "source": [
    "interactions = omnipath.interactions.AllInteractions.get(organism='mouse', genesymbols=True, databases='CellChatDB')\n",
    "\n",
    "# Filter for interactions where both genes are expressed with frequency > 0.5 across the entire dataset\n",
    "expressed_genes = gex_res.index.values[gex_res.apply(lambda x: np.sum(x>0), axis=1) > 0.5*gex_res.shape[1]]\n",
    "interactions = interactions.iloc[np.where(np.logical_and(np.isin(interactions['source_genesymbol'].values, expressed_genes), (np.isin(interactions['target_genesymbol'].values, expressed_genes))))[0],]\n",
    "interactions = interactions[['source_genesymbol', 'target_genesymbol']]\n"
   ],
   "metadata": {
    "collapsed": false,
    "pycharm": {
     "name": "#%%\n"
    }
   }
  },
  {
   "cell_type": "markdown",
   "source": [
    "Perform LR analysis - compute interaction potential for each cell pair and interaction likelihood for each pair of cell types across all LR pairs"
   ],
   "metadata": {
    "collapsed": false
   }
  },
  {
   "cell_type": "code",
   "execution_count": 141,
   "outputs": [],
   "source": [
    "# Construct metadata for each cell-cell junction\n",
    "\n",
    "boundary_cells = tensionmap_data.index.values[np.where(np.logical_and(np.isin(tensionmap_data['boundary_annotation'], boundary_celltypes), distance_to_boundary['distance'] <= 5))[0]]\n",
    "boundary_adj_mat = adj_mat.loc[boundary_cells, boundary_cells]\n",
    "edge_indices = np.nonzero(np.triu(boundary_adj_mat))\n",
    "boundary_metadata = pd.DataFrame(data=np.array([boundary_adj_mat.columns.values[edge_indices[0]], boundary_adj_mat.columns.values[edge_indices[1]]]).T,\n",
    "                                 columns=['cell_1', 'cell_2'])\n",
    "boundary_metadata['cell_1_celltype'] = tensionmap_data.loc[boundary_metadata['cell_1'], 'boundary_annotation'].values\n",
    "boundary_metadata['cell_2_celltype'] = tensionmap_data.loc[boundary_metadata['cell_2'], 'boundary_annotation'].values"
   ],
   "metadata": {
    "collapsed": false,
    "pycharm": {
     "name": "#%%\n"
    }
   }
  },
  {
   "cell_type": "code",
   "execution_count": 142,
   "outputs": [
    {
     "name": "stderr",
     "output_type": "stream",
     "text": [
      "100%|██████████| 245/245 [00:02<00:00, 95.83it/s]\n"
     ]
    }
   ],
   "source": [
    "interactions_res = test_interactions(interactions, gex_res, boundary_metadata, boundary_celltypes)"
   ],
   "metadata": {
    "collapsed": false,
    "pycharm": {
     "name": "#%%\n"
    }
   }
  },
  {
   "cell_type": "code",
   "execution_count": null,
   "outputs": [],
   "source": [
    "from scipy.stats import rankdata\n",
    "#interactions_res['ab_rank'] = len(interactions_res['ab_likelihood']) - rankdata(interactions_res['ab_likelihood'])\n",
    "#interactions_res['ba_rank'] = len(interactions_res['ab_likelihood']) - rankdata(interactions_res['ba_likelihood'])\n",
    "#interactions_res['ab_likelihood_abs'] = np.abs(interactions_res['ab_likelihood'])\n",
    "#interactions_res['ba_likelihood_abs'] = np.abs(interactions_res['ba_likelihood'])\n",
    "#interactions_res['ab_rank_abs'] = len(interactions_res['ab_likelihood']) - rankdata(np.abs(interactions_res['ab_likelihood']))\n",
    "#interactions_res['ba_rank_abs'] = len(interactions_res['ab_likelihood']) - rankdata(np.abs(interactions_res['ba_likelihood']))"
   ],
   "metadata": {
    "collapsed": false,
    "pycharm": {
     "name": "#%%\n"
    }
   }
  },
  {
   "cell_type": "markdown",
   "source": [
    "### Generate plots"
   ],
   "metadata": {
    "collapsed": false,
    "pycharm": {
     "name": "#%% md\n"
    }
   }
  },
  {
   "cell_type": "markdown",
   "source": [
    "Boxplots of cellpair interaction potentials for top 5 LR interactions"
   ],
   "metadata": {
    "collapsed": false,
    "pycharm": {
     "name": "#%% md\n"
    }
   }
  },
  {
   "cell_type": "code",
   "execution_count": 114,
   "outputs": [],
   "source": [
    "# Define alises to have shorter x-axis labels\n",
    "aliases = ['FMH','NC']"
   ],
   "metadata": {
    "collapsed": false,
    "pycharm": {
     "name": "#%%\n"
    }
   }
  },
  {
   "cell_type": "code",
   "execution_count": 115,
   "outputs": [],
   "source": [
    "for i,interaction in interactions_res.loc[interactions_res['ab_type']!='inconsistent'].sort_values(by='ab_likelihood',ascending=False).iloc[0:20,].iterrows():\n",
    "    genes = [interaction['source_gene'],interaction['target_gene']]\n",
    "    generate_boxplot(genes[0],genes[1], gex_res, boundary_metadata, boundary_celltypes, celltype_alias=aliases)\n",
    "#    plt.show()\n",
    "    plt.savefig(f'/Users/ruiyanghe/Desktop/Uni/PartIII/Project/Figures/lr_analysis/{dataset}/interaction_boxplots/{aliases[0]}_{aliases[1]}/{genes[0]}_{genes[1]}.pdf', bbox_inches='tight')\n",
    "    plt.close()\n",
    "\n",
    "for i,interaction in interactions_res.loc[interactions_res['ba_type']!='inconsistent'].sort_values(by='ba_likelihood',ascending=False).iloc[0:20,].iterrows():\n",
    "    genes = [interaction['source_gene'],interaction['target_gene']]\n",
    "    generate_boxplot(genes[0],genes[1], gex_res, boundary_metadata, boundary_celltypes, celltype_alias=aliases)\n",
    "#    plt.show()\n",
    "    plt.savefig(f'/Users/ruiyanghe/Desktop/Uni/PartIII/Project/Figures/lr_analysis/{dataset}/interaction_boxplots/{aliases[1]}_{aliases[0]}/{genes[0]}_{genes[1]}.pdf', bbox_inches='tight')\n",
    "    plt.close()"
   ],
   "metadata": {
    "collapsed": false,
    "pycharm": {
     "name": "#%%\n"
    }
   }
  },
  {
   "cell_type": "markdown",
   "source": [
    "Dotplot of ranked LR interactions"
   ],
   "metadata": {
    "collapsed": false,
    "pycharm": {
     "name": "#%% md\n"
    }
   }
  },
  {
   "cell_type": "code",
   "execution_count": 11,
   "outputs": [
    {
     "data": {
      "text/plain": "<Figure size 432x288 with 1 Axes>",
      "image/png": "[encoded data removed]"
     },
     "metadata": {
      "needs_background": "light"
     },
     "output_type": "display_data"
    }
   ],
   "source": [
    "# Dotplot for A-B interactions\n",
    "sns.scatterplot(data=interactions_res[interactions_res['ab_likelihood']>0], x='ab_rank',y='ab_likelihood_abs').set(ylabel = 'Absolute interaction likelihood')\n",
    "plt.show()"
   ],
   "metadata": {
    "collapsed": false,
    "pycharm": {
     "name": "#%%\n"
    }
   }
  },
  {
   "cell_type": "code",
   "execution_count": 63,
   "outputs": [
    {
     "data": {
      "text/plain": "<Figure size 432x288 with 1 Axes>",
      "image/png": "[encoded data removed]"
     },
     "metadata": {
      "needs_background": "light"
     },
     "output_type": "display_data"
    }
   ],
   "source": [
    "# Dotplot for B-A interactions\n",
    "sns.scatterplot(data=interactions_res[interactions_res['ba_likelihood']>0], x='ba_rank',y='ba_likelihood_abs').set(ylabel = 'Absolute interaction likelihood')\n",
    "plt.show()"
   ],
   "metadata": {
    "collapsed": false,
    "pycharm": {
     "name": "#%%\n"
    }
   }
  },
  {
   "cell_type": "code",
   "execution_count": 116,
   "outputs": [],
   "source": [
    "# Save results\n",
    "interactions_res.to_csv('./temp_data/lr_interactions_res.csv', index=False)"
   ],
   "metadata": {
    "collapsed": false,
    "pycharm": {
     "name": "#%%\n"
    }
   }
  },
  {
   "cell_type": "code",
   "execution_count": 143,
   "outputs": [],
   "source": [
    "# Output gene expression line plots and spatial plots for top LR gene pairs\n",
    "\n",
    "# Segmented image and cell positions for spatial plots\n",
    "\n",
    "img_path = skimage.io.imread(f'../../reproduce_data/{dataset}/segmentation_final.tif')\n",
    "cell_positions = tensionmap_data[['centroid_x', 'centroid_y']]/2"
   ],
   "metadata": {
    "collapsed": false,
    "pycharm": {
     "name": "#%%\n"
    }
   }
  },
  {
   "cell_type": "code",
   "execution_count": 144,
   "outputs": [],
   "source": [
    "for i, interaction in interactions_res.loc[interactions_res['ba_type']!='inconsistent'].sort_values(by='ba_likelihood',ascending=False).iloc[0:20,].iterrows():\n",
    "    # Do ligand plots\n",
    "    p = gex_lineplot(interaction['source_gene'], tensionmap_data, boundary_celltypes, distance_to_boundary, gex_res, [4,0], [0,5])\n",
    "    p.savefig(f'/Users/ruiyanghe/Desktop/Uni/PartIII/Project/Figures/lr_analysis/{dataset}/gex_plots/1d_plots/{interaction[\"source_gene\"]}.pdf', bbox_inches='tight')\n",
    "    plt.close()\n",
    "    spatialplot(gex_res.loc[interaction['source_gene']].values, 'continuous', cell_positions, img_path, legend=interaction['source_gene'], size=80, norm=True, file=f'/Users/ruiyanghe/Desktop/Uni/PartIII/Project/Figures/lr_analysis/{dataset}/gex_plots/2d_plots/{interaction[\"source_gene\"]}.pdf')\n",
    "\n",
    "    # Do receptor plots\n",
    "    p = gex_lineplot(interaction['target_gene'], tensionmap_data, boundary_celltypes, distance_to_boundary, gex_res, [4,0], [0,5])\n",
    "    p.savefig(f'/Users/ruiyanghe/Desktop/Uni/PartIII/Project/Figures/lr_analysis/{dataset}/gex_plots/1d_plots/{interaction[\"target_gene\"]}.pdf', bbox_inches='tight')\n",
    "    plt.close()\n",
    "    spatialplot(gex_res.loc[interaction['target_gene']].values, 'continuous', cell_positions, img_path, legend=interaction['target_gene'], size=80, norm=True, file=f'/Users/ruiyanghe/Desktop/Uni/PartIII/Project/Figures/lr_analysis/{dataset}/gex_plots/2d_plots/{interaction[\"target_gene\"]}.pdf')"
   ],
   "metadata": {
    "collapsed": false,
    "pycharm": {
     "name": "#%%\n"
    }
   }
  },
  {
   "cell_type": "code",
   "execution_count": null,
   "outputs": [],
   "source": [],
   "metadata": {
    "collapsed": false,
    "pycharm": {
     "name": "#%%\n"
    }
   }
  }
 ],
 "metadata": {
  "kernelspec": {
   "name": "tensionmap-new",
   "language": "python",
   "display_name": "TensionMap-new"
  },
  "language_info": {
   "codemirror_mode": {
    "name": "ipython",
    "version": 2
   },
   "file_extension": ".py",
   "mimetype": "text/x-python",
   "name": "python",
   "nbconvert_exporter": "python",
   "pygments_lexer": "ipython2",
   "version": "2.7.6"
  }
 },
 "nbformat": 4,
 "nbformat_minor": 0
}