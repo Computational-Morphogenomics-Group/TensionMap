{
 "cells": [
  {
   "cell_type": "code",
   "execution_count": null,
   "id": "novel-benefit",
   "metadata": {},
   "outputs": [],
   "source": [
    "from src.segment import Segmenter\n",
    "from src.synthetic_data import Point, Points, DistanceTransform \n",
    "from src.VMSI import *"
   ]
  },
  {
   "cell_type": "markdown",
   "id": "saving-debate",
   "metadata": {},
   "source": [
    "## Example with Synthetic Data"
   ]
  },
  {
   "cell_type": "markdown",
   "id": "pleased-donna",
   "metadata": {},
   "source": [
    "### Generate the data "
   ]
  },
  {
   "cell_type": "code",
   "execution_count": null,
   "id": "sealed-middle",
   "metadata": {},
   "outputs": [],
   "source": [
    "config = {\n",
    "          'max_x' : 256,\n",
    "          'max_y' : 256,\n",
    "          'min_p' : 0.001,\n",
    "          'max_p' : 0.004,\n",
    "          'num_points' : 50\n",
    "         }\n",
    "\n",
    "generating_points = Points(**config)\n",
    "\n",
    "dtr = DistanceTransform(generating_points)\n",
    "dtr.compute_transform()\n",
    "dtr.visualize_transform()\n",
    "\n",
    "image = dtr.transform.copy()"
   ]
  },
  {
   "cell_type": "markdown",
   "id": "precise-retrieval",
   "metadata": {},
   "source": [
    "### Segment it"
   ]
  },
  {
   "cell_type": "code",
   "execution_count": null,
   "id": "prepared-executive",
   "metadata": {},
   "outputs": [],
   "source": [
    "seg = Segmenter()\n",
    "seg.segment(image.copy(), diameter=None)\n",
    "seg.visualize('outlines', overlay=True)"
   ]
  },
  {
   "cell_type": "markdown",
   "id": "pointed-fault",
   "metadata": {},
   "source": [
    "### Infer the tensions"
   ]
  },
  {
   "cell_type": "code",
   "execution_count": null,
   "id": "utility-subcommittee",
   "metadata": {},
   "outputs": [],
   "source": [
    "# create the model \n",
    "model = VMSI(cell_pairs = seg.pairs(), edges = seg.edges(), num_cells = len(seg.cells[0]), \n",
    "             cells = seg.cells[0], barrycenters = seg.barrycenters[0], \n",
    "             edge_cells = seg.get_edge_cells(), height=256, width=256)\n",
    "\n",
    "# fit the model parameters\n",
    "q, z, p = model.fit()\n",
    "\n",
    "# get the CAP tiling\n",
    "CAP_tiling = model.CAP(image.copy(), q, z, p)\n",
    "\n",
    "# view the CAP tiling\n",
    "plt.figure(figsize=(15, 10))\n",
    "plt.imshow(CAP_tiling)\n",
    "plt.show()\n",
    "\n",
    "# evaluate the model\n",
    "evaluate(model, seg, dtr)"
   ]
  },
  {
   "cell_type": "markdown",
   "metadata": {},
   "source": [
    "## Example with Real Data"
   ]
  },
  {
   "cell_type": "markdown",
   "metadata": {},
   "source": [
    "### Load the Data"
   ]
  },
  {
   "cell_type": "code",
   "execution_count": null,
   "metadata": {},
   "outputs": [],
   "source": [
    "image = cv2.resize(cv2.imread('Images/test.png.jpg', 0), (256, 256))"
   ]
  },
  {
   "cell_type": "markdown",
   "metadata": {},
   "source": [
    "### Segment it"
   ]
  },
  {
   "cell_type": "code",
   "execution_count": null,
   "metadata": {},
   "outputs": [],
   "source": [
    "seg = Segmenter() \n",
    "seg.segment(image, diameter=None) \n",
    "seg_img = seg.visualize('outlines', overlay=True, return_img=True)"
   ]
  },
  {
   "cell_type": "markdown",
   "metadata": {},
   "source": [
    "### Infer the tensions"
   ]
  },
  {
   "cell_type": "code",
   "execution_count": null,
   "metadata": {},
   "outputs": [],
   "source": [
    "# create the model \n",
    "model = VMSI(cell_pairs = seg.pairs(), edges = seg.edges(), num_cells = len(seg.cells[0]), \n",
    "             cells = seg.cells[0], barrycenters = seg.barrycenters[0], \n",
    "             edge_cells = seg.get_edge_cells(), height=256, width=256)\n",
    "\n",
    "# fit the model parameters\n",
    "q, z, p = model.fit()\n",
    "\n",
    "# get the tiling\n",
    "CAP_tiling model.CAP(np.float32(image.copy()), q, z, p)\n",
    "\n",
    "# view the tension tiling\n",
    "plt.figure(figsize=(15, 10))\n",
    "plt.imshow(CAP_tiling)\n",
    "plt.show()"
   ]
  }
 ],
 "metadata": {
  "kernelspec": {
   "display_name": "Python 3",
   "language": "python",
   "name": "python3"
  },
  "language_info": {
   "codemirror_mode": {
    "name": "ipython",
    "version": 3
   },
   "file_extension": ".py",
   "mimetype": "text/x-python",
   "name": "python",
   "nbconvert_exporter": "python",
   "pygments_lexer": "ipython3",
   "version": "3.9.1-final"
  },
  "toc": {
   "base_numbering": 1,
   "nav_menu": {},
   "number_sections": true,
   "sideBar": true,
   "skip_h1_title": false,
   "title_cell": "Table of Contents",
   "title_sidebar": "Contents",
   "toc_cell": false,
   "toc_position": {},
   "toc_section_display": true,
   "toc_window_display": false
  }
 },
 "nbformat": 4,
 "nbformat_minor": 5
}
